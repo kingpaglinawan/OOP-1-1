{
  "nbformat": 4,
  "nbformat_minor": 0,
  "metadata": {
    "colab": {
      "name": "Prelim Exam.ipynb",
      "provenance": [],
      "authorship_tag": "ABX9TyMzVMoMFf0aBhtpgSu7KBhP",
      "include_colab_link": true
    },
    "kernelspec": {
      "name": "python3",
      "display_name": "Python 3"
    },
    "language_info": {
      "name": "python"
    }
  },
  "cells": [
    {
      "cell_type": "markdown",
      "metadata": {
        "id": "view-in-github",
        "colab_type": "text"
      },
      "source": [
        "<a href=\"https://colab.research.google.com/github/kingpaglinawan/OOP-1-1/blob/main/Prelim_Exam.ipynb\" target=\"_parent\"><img src=\"https://colab.research.google.com/assets/colab-badge.svg\" alt=\"Open In Colab\"/></a>"
      ]
    },
    {
      "cell_type": "code",
      "execution_count": null,
      "metadata": {
        "colab": {
          "base_uri": "https://localhost:8080/"
        },
        "id": "UBUO627o8qdV",
        "outputId": "29d8baf0-dea0-45d6-84bf-db6acc85ab93"
      },
      "outputs": [
        {
          "output_type": "stream",
          "name": "stdout",
          "text": [
            "sum = 210\n",
            "Average =  10.5\n"
          ]
        }
      ],
      "source": [
        "n = 20\n",
        "\n",
        "total_numbers = n\n",
        "\n",
        "sum = 0\n",
        "\n",
        "while n >= 0:\n",
        "\n",
        "  sum += n\n",
        "\n",
        "  n -= 1\n",
        "\n",
        "print(\"sum =\", sum)\n",
        "\n",
        "\n",
        "\n",
        "average = sum / total_numbers\n",
        "\n",
        "print(\"Average = \", average)\n",
        "\n"
      ]
    },
    {
      "cell_type": "markdown",
      "source": [
        "Problem 2. (50 points)\n",
        "\n",
        "1.\tWrite a Python to display your full name, student number, age, and course\n",
        "2.\tCreate a class named Student with attributes: Name, Student_No, Age, School, and Course\n",
        "3.\tCreate an object name Myself and assign an instance for each attribute.\n",
        "4.\tCreate a method Info() using an instantiation of a class.\n",
        "5.\tInsert your GitHub link \"Prelim Exam\" from your repository named \"OOP 1-1\"\n"
      ],
      "metadata": {
        "id": "AzSSsAvpC5lr"
      }
    },
    {
      "cell_type": "code",
      "source": [
        "\n",
        "class OOP_1_1:\n",
        "  def __init__(self,fullname,student_no,age,course,school):\n",
        "     self.fullname = fullname\n",
        "     self.student_no = student_no\n",
        "     self.age = age\n",
        "     self.course = course\n",
        "     self.school = school\n",
        "\n",
        "  def info(self):\n",
        "   #print(self.fullname,self.student_no,self.age,self.course,self.school)\n",
        "   print(\"Name: \", self.fullname)\n",
        "   print(\"Student No. \", self.student_no)\n",
        "   print(\"Age: \", self.age,\"years old\")\n",
        "   print(\"School: \", self.school)\n",
        "   print(\"Course: \", self.course)\n",
        "\n",
        "Myself = OOP_1_1(\"King John Adamz R. Paglinawan\",202102061,19,\"BSCPE/ BACHELOR OF SCIENCE IN COMPUTER ENGINEERING\",\"Cavite State University (Main Campus)\")\n",
        "Myself.info() "
      ],
      "metadata": {
        "colab": {
          "base_uri": "https://localhost:8080/"
        },
        "id": "tH4v2rKCDIxT",
        "outputId": "3e9fe707-813e-447a-ec76-58dc690d9cbc"
      },
      "execution_count": 23,
      "outputs": [
        {
          "output_type": "stream",
          "name": "stdout",
          "text": [
            "Name:  King John Adamz R. Paglinawan\n",
            "Student No.  202102061\n",
            "Age:  19 years old\n",
            "School:  Cavite State University (Main Campus)\n",
            "Course:  BSCPE/ BACHELOR OF SCIENCE IN COMPUTER ENGINEERING\n"
          ]
        }
      ]
    }
  ]
}
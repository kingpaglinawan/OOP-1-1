{
  "nbformat": 4,
  "nbformat_minor": 0,
  "metadata": {
    "colab": {
      "name": "Classes and Objects.ipynb",
      "provenance": [],
      "authorship_tag": "ABX9TyM270OMvgQPAGzIJZmNq+Vp",
      "include_colab_link": true
    },
    "kernelspec": {
      "name": "python3",
      "display_name": "Python 3"
    },
    "language_info": {
      "name": "python"
    }
  },
  "cells": [
    {
      "cell_type": "markdown",
      "metadata": {
        "id": "view-in-github",
        "colab_type": "text"
      },
      "source": [
        "<a href=\"https://colab.research.google.com/github/kingpaglinawan/OOP-1-1/blob/main/Classes_and_Objects.ipynb\" target=\"_parent\"><img src=\"https://colab.research.google.com/assets/colab-badge.svg\" alt=\"Open In Colab\"/></a>"
      ]
    },
    {
      "cell_type": "markdown",
      "source": [
        "Application 2- Write a python program that displays the fullname of a student, student number, age course, and school. Create a class name OOP_1_1 and create info()method to display the information of student with fullname, student_no, age, course, school as attributes "
      ],
      "metadata": {
        "id": "Amqa1UWf1no7"
      }
    },
    {
      "cell_type": "code",
      "source": [
        "class OOP_1_1:\n",
        "  def __init__(self,fullname,student_no,age,course,school):\n",
        "     self.fullname = fullname\n",
        "     self.student_no = student_no\n",
        "     self.age = age\n",
        "     self.course = course\n",
        "     self.school = school\n",
        "\n",
        "  def info(self):\n",
        "   print(self.fullname,self.student_no,self.age,self.course,self.school)\n",
        "\n",
        "student = OOP_1_1(\"King John Adamz R. Paglinawan\",202102061,19,\"BSCpE\",\"CVSU Indang\")\n",
        "student.info() "
      ],
      "metadata": {
        "colab": {
          "base_uri": "https://localhost:8080/"
        },
        "id": "jP1Cn_Qk2eSb",
        "outputId": "05d7a99e-8e25-40c5-982a-201f1528ab05"
      },
      "execution_count": 10,
      "outputs": [
        {
          "output_type": "stream",
          "name": "stdout",
          "text": [
            "King John Adamz R. Paglinawan 202102061 19 BSCpE CVSU Indang\n"
          ]
        }
      ]
    },
    {
      "cell_type": "code",
      "source": [
        "class OOP_1_1:\n",
        "  def __init__(self,fullname,student_no,age,course,school):\n",
        "     self.fullname = fullname\n",
        "     self.student_no = student_no\n",
        "     self.age = age\n",
        "     self.course = course\n",
        "     self.school = school\n",
        "\n",
        "  def info(self):\n",
        "   #print(self.fullname,self.student_no,self.age,self.course,self.school)\n",
        "   print(\"My name is\", self.fullname)\n",
        "   print(\"My student number  is\", self.student_no)\n",
        "   print(\"I am\", self.age,\"years old\")\n",
        "   print(\"I am a\", self.course,\"student\")\n",
        "   print(\"I study at\", self.school)\n",
        "\n",
        "student = OOP_1_1(\"King John Adamz R. Paglinawan\",202102061,19,\"BSCpE\",\"CVSU Indang\")\n",
        "student.info() "
      ],
      "metadata": {
        "colab": {
          "base_uri": "https://localhost:8080/"
        },
        "id": "61dNtwR96V9v",
        "outputId": "e4191be0-3d63-415f-aab4-164dc02c9534"
      },
      "execution_count": 13,
      "outputs": [
        {
          "output_type": "stream",
          "name": "stdout",
          "text": [
            "My name is King John Adamz R. Paglinawan\n",
            "My student number  is 202102061\n",
            "I am 19 years old\n",
            "I am a BSCpE student\n",
            "I study at CVSU Indang\n"
          ]
        }
      ]
    }
  ]
}
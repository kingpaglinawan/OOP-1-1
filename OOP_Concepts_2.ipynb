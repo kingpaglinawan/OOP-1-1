{
  "nbformat": 4,
  "nbformat_minor": 0,
  "metadata": {
    "colab": {
      "name": "OOP Concepts 2.ipynb",
      "provenance": [],
      "authorship_tag": "ABX9TyOuh5qDOWPfLKNYMuY9Ngoa",
      "include_colab_link": true
    },
    "kernelspec": {
      "name": "python3",
      "display_name": "Python 3"
    },
    "language_info": {
      "name": "python"
    }
  },
  "cells": [
    {
      "cell_type": "markdown",
      "metadata": {
        "id": "view-in-github",
        "colab_type": "text"
      },
      "source": [
        "<a href=\"https://colab.research.google.com/github/kingpaglinawan/OOP-1-1/blob/main/OOP_Concepts_2.ipynb\" target=\"_parent\"><img src=\"https://colab.research.google.com/assets/colab-badge.svg\" alt=\"Open In Colab\"/></a>"
      ]
    },
    {
      "cell_type": "markdown",
      "source": [
        "Classes with Multiple Objects"
      ],
      "metadata": {
        "id": "IwroDeg-MCi1"
      }
    },
    {
      "cell_type": "code",
      "execution_count": null,
      "metadata": {
        "colab": {
          "base_uri": "https://localhost:8080/"
        },
        "id": "85ScEWJRIrNv",
        "outputId": "e1b8fd67-bee8-4914-8717-08cf5653be69"
      },
      "outputs": [
        {
          "output_type": "stream",
          "name": "stdout",
          "text": [
            "Griffon Vulture flies above the sky\n",
            "Common Crane flies above the sky\n",
            "Emu is the national bird of Australia\n"
          ]
        }
      ],
      "source": [
        "class Birds:\n",
        "  def __init__(self,birds_name):\n",
        "    self.birds_name = birds_name\n",
        "  def flying_birds(self):\n",
        "    print(f\"{self.birds_name} flies above the sky\")\n",
        "  def non_flying_birds(self):\n",
        "    print(f\"{self.birds_name} is the national bird of Australia\")\n",
        "\n",
        "vulture = Birds(\"Griffon Vulture\")\n",
        "crane = Birds(\"Common Crane\")\n",
        "emu = Birds(\"Emu\")\n",
        "\n",
        "vulture.flying_birds()\n",
        "crane.flying_birds()\n",
        "emu.non_flying_birds()"
      ]
    },
    {
      "cell_type": "markdown",
      "source": [
        "Encapsulation (mangling with double underscore)"
      ],
      "metadata": {
        "id": "yegYn7VHPjS6"
      }
    },
    {
      "cell_type": "code",
      "source": [
        "class foo:\n",
        "  def __init__(self,a,b):\n",
        "    self.__a = a\n",
        "    self.__b = b\n",
        "\n",
        "  def add(self):\n",
        "    return self.__a+self.__b\n",
        "\n",
        "object_foo = foo(3,4)\n",
        "object_foo.add()\n",
        "\n",
        "object_foo.__a = 6\n",
        "object_foo.__b = 7\n",
        "object_foo.add()"
      ],
      "metadata": {
        "colab": {
          "base_uri": "https://localhost:8080/"
        },
        "id": "95iYlDGePh4g",
        "outputId": "5ed8f0cc-a2b3-4005-be28-c6a7b54e9140"
      },
      "execution_count": null,
      "outputs": [
        {
          "output_type": "execute_result",
          "data": {
            "text/plain": [
              "7"
            ]
          },
          "metadata": {},
          "execution_count": 11
        }
      ]
    },
    {
      "cell_type": "code",
      "source": [
        "class Counter:\n",
        "    def __init__(self):\n",
        "        self.__current = 0\n",
        "    def increment(self):\n",
        "        self.__current+= 1\n",
        "    def value(self):\n",
        "        return self.__current\n",
        "    def reset(self):\n",
        "        self.__current = 0\n",
        "\n",
        "\n",
        "number = Counter()\n",
        "number.__current = 1\n",
        "\n",
        "number.increment()\n",
        "number.increment()\n",
        "number.increment()\n",
        "\n",
        "print(number.value())\n"
      ],
      "metadata": {
        "colab": {
          "base_uri": "https://localhost:8080/"
        },
        "id": "CvZSxObFRtbl",
        "outputId": "ff164608-7aac-4ca6-a4d7-3d880a694e3b"
      },
      "execution_count": null,
      "outputs": [
        {
          "output_type": "stream",
          "name": "stdout",
          "text": [
            "3\n"
          ]
        }
      ]
    },
    {
      "cell_type": "markdown",
      "source": [
        "Inheritance"
      ],
      "metadata": {
        "id": "gJF_eAnuVEqe"
      }
    },
    {
      "cell_type": "code",
      "source": [
        "class Person:\n",
        "  def __init__(self,firstname,surname):\n",
        "    self.firstname = firstname\n",
        "    self.surname = surname\n",
        "\n",
        "  def fullname(self):\n",
        "    print(self.firstname,self.surname)\n",
        "\n",
        "person = Person(\"King\",\"Paglinawan\")\n",
        "person.fullname()\n",
        "\n",
        "class Teacher(Person):\n",
        " pass\n",
        "\n",
        "person2 = Teacher(\"Maam\",\"Sayo\")\n",
        "person2.fullname()\n",
        "\n",
        "class Student(Person):\n",
        "  pass\n",
        "\n",
        "person3 = Student(\"Miro\",\"Angeles\")\n",
        "person3.fullname()"
      ],
      "metadata": {
        "colab": {
          "base_uri": "https://localhost:8080/"
        },
        "id": "KtWuzY4FVGc_",
        "outputId": "157c6348-ce74-4df9-8469-8ad4faef7ee3"
      },
      "execution_count": null,
      "outputs": [
        {
          "output_type": "stream",
          "name": "stdout",
          "text": [
            "King Paglinawan\n",
            "Maam Sayo\n",
            "Miro Angeles\n"
          ]
        }
      ]
    },
    {
      "cell_type": "markdown",
      "source": [
        "Polymorphism"
      ],
      "metadata": {
        "id": "TC1jSGwCXeAf"
      }
    },
    {
      "cell_type": "code",
      "source": [
        "class RegularPolygon:\n",
        "  def __init__(self,side):\n",
        "    self.side=side\n",
        "class Square(RegularPolygon):\n",
        "  def area(self):\n",
        "    return self.side*self.side\n",
        "class EquilateralTriangle(RegularPolygon):\n",
        "  def area(self):\n",
        "    return self.side*self.side*0.433\n",
        "\n",
        "obj1 = Square(4)\n",
        "print(obj1.area())\n",
        "\n",
        "obj2 =EquilateralTriangle(3)\n",
        "print(obj2.area())\n"
      ],
      "metadata": {
        "colab": {
          "base_uri": "https://localhost:8080/"
        },
        "id": "ZssughCsXgpU",
        "outputId": "267d9e77-4960-44d2-a983-89b540b4de31"
      },
      "execution_count": null,
      "outputs": [
        {
          "output_type": "stream",
          "name": "stdout",
          "text": [
            "16\n",
            "3.897\n"
          ]
        }
      ]
    },
    {
      "cell_type": "markdown",
      "source": [
        "Application 1"
      ],
      "metadata": {
        "id": "46RpeX5Qb0o5"
      }
    },
    {
      "cell_type": "markdown",
      "source": [
        "1. Create a Python program that displays the name of three students (Student 1, Student 2, and Student 3) and their term grades.\n",
        "2. Create a class name Person and attributes - std1, std2, std3, pre,mid,fin\n",
        "3. Compute the average of each term grade using Grade() method\n",
        "4. Information about student's grades must be hidden from others"
      ],
      "metadata": {
        "id": "fOk4az0Jb1h2"
      }
    },
    {
      "cell_type": "code",
      "source": [
        "class Student_grade:\n",
        "  def __init__(self,student_grade):\n",
        "    self.student_grade = student_grade\n",
        "    \n",
        "  def TermGrade(self):\n",
        "    print(f\"{self.student_grade} (Prelim,Midterms,Finals)\") \n",
        "  def student1(self):\n",
        "    print(f\"{self.student_grade}  30/50, 50/50, 48/50\")\n",
        "  def student2(self):\n",
        "    print(f\"{self.student_grade}  49/50, 48/50, 50/50\")\n",
        "  def student3(self):\n",
        "    print(f\"{self.student_grade}  40/50, 34/50, 40/50\")\n",
        "\n",
        "termgrade = Student_grade(\"  Term Grades of three students:\")\n",
        "Stud_1 = Student_grade(\"Student 1:\")\n",
        "Stud_2 = Student_grade(\"Student 2:\")\n",
        "Stud_3 = Student_grade(\"Student 3:\")\n",
        "\n",
        "termgrade.TermGrade()\n",
        "Stud_1.student1()\n",
        "Stud_2.student2()\n",
        "Stud_3.student3()\n",
        "\n",
        "\n",
        "class Person:\n",
        "  def __init__(self,pre,mid,fin):\n",
        "    self.__pre = pre\n",
        "    self.__mid = mid\n",
        "    self.__fin = fin\n",
        "\n",
        "  def std_1(self):\n",
        "    return (self.__pre + self.__mid + self.__fin)/3*100\n",
        "  def std_2(self):\n",
        "    return (self.__pre + self.__mid + self.__fin)/3*100\n",
        "  def std_3(self):\n",
        "    return (self.__pre + self.__mid + self.__fin)/3*100\n",
        "\n",
        "grade1 = Person(30/50,50/50,48/50)\n",
        "grade2 = Person(49/50,48/50,50/50)\n",
        "grade3 = Person(40/50,34/50,40/50)\n",
        "\n",
        "print(\"  TERM GRADE AVERAGE\")\n",
        "print(\"Term grade of Student 1:\",grade1.std_1())\n",
        "print(\"Term grade of Student 2:\",grade2.std_2())\n",
        "print(\"Term grade of Student 3:\",grade3.std_3())\n"
      ],
      "metadata": {
        "colab": {
          "base_uri": "https://localhost:8080/"
        },
        "id": "q3ytx9WtBo9J",
        "outputId": "0f157dac-621d-45e8-884a-1b2c85719ef5"
      },
      "execution_count": 17,
      "outputs": [
        {
          "output_type": "stream",
          "name": "stdout",
          "text": [
            "  Term Grades of three students: (Prelim,Midterms,Finals)\n",
            "Student 1:  30/50, 50/50, 48/50\n",
            "Student 2:  49/50, 48/50, 50/50\n",
            "Student 3:  40/50, 34/50, 40/50\n",
            "  TERM GRADE AVERAGE\n",
            "Term grade of Student 1: 85.33333333333334\n",
            "Term grade of Student 2: 98.0\n",
            "Term grade of Student 3: 76.00000000000001\n"
          ]
        }
      ]
    }
  ]
}
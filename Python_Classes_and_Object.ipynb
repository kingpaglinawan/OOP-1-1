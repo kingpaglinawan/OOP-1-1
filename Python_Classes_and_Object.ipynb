{
  "nbformat": 4,
  "nbformat_minor": 0,
  "metadata": {
    "colab": {
      "name": "Python Classes and Object.ipynb",
      "provenance": [],
      "authorship_tag": "ABX9TyOMdTtRg/TFpJ0pmE2HA8zS",
      "include_colab_link": true
    },
    "kernelspec": {
      "name": "python3",
      "display_name": "Python 3"
    },
    "language_info": {
      "name": "python"
    }
  },
  "cells": [
    {
      "cell_type": "markdown",
      "metadata": {
        "id": "view-in-github",
        "colab_type": "text"
      },
      "source": [
        "<a href=\"https://colab.research.google.com/github/kingpaglinawan/OOP-1-1/blob/main/Python_Classes_and_Object.ipynb\" target=\"_parent\"><img src=\"https://colab.research.google.com/assets/colab-badge.svg\" alt=\"Open In Colab\"/></a>"
      ]
    },
    {
      "cell_type": "markdown",
      "source": [
        "Class"
      ],
      "metadata": {
        "id": "PiK8lIQXzReK"
      }
    },
    {
      "cell_type": "code",
      "source": [
        "class MyClass:\n",
        "   pass      #create class without variable and methods"
      ],
      "metadata": {
        "id": "S7FdmeH0zZg4"
      },
      "execution_count": 5,
      "outputs": []
    },
    {
      "cell_type": "code",
      "source": [
        "class MyClass:\n",
        "  def __init__(self,name,age):\n",
        "     self.name= name            #create a class with attributes\n",
        "     self.age = age\n",
        "\n",
        "  def display (self):\n",
        "    print(self.name,self.age)\n",
        "\n",
        "person = MyClass(\"King Paglinawan\", 19)   #create an object name\n",
        "\n",
        "print(person.name)\n",
        "\n"
      ],
      "metadata": {
        "colab": {
          "base_uri": "https://localhost:8080/"
        },
        "id": "CDA4k4Fcz0_A",
        "outputId": "7e2ebac6-ba71-46f3-9303-5d9c3788c553"
      },
      "execution_count": 18,
      "outputs": [
        {
          "output_type": "stream",
          "name": "stdout",
          "text": [
            "King Paglinawan\n"
          ]
        }
      ]
    },
    {
      "cell_type": "code",
      "source": [
        "class MyClass:\n",
        "  def __init__(self,name,age):\n",
        "     self.name= name            #create a class with attributes\n",
        "     self.age = age\n",
        "\n",
        "  def display (self):\n",
        "    print(self.name,self.age)\n",
        "\n",
        "person = MyClass(\"King Paglinawan\", 19)   #create an object name\n",
        "\n",
        "person.display()\n",
        "\n"
      ],
      "metadata": {
        "colab": {
          "base_uri": "https://localhost:8080/"
        },
        "id": "OTYJlfDS2aUK",
        "outputId": "a6d64499-4b08-4e5e-e9a5-f5ef51f10f64"
      },
      "execution_count": 19,
      "outputs": [
        {
          "output_type": "stream",
          "name": "stdout",
          "text": [
            "King Paglinawan 19\n"
          ]
        }
      ]
    },
    {
      "cell_type": "code",
      "source": [
        "#Application 1-Write =Python program that computes for an area of rectangle: Area=lxw\n",
        "\n",
        "class Rectangle:\n",
        "  def __init__(self,l,w):\n",
        "    self.l=l\n",
        "    self.w=w         #attribute names\n",
        " \n",
        "  def Area(self):\n",
        "    print(self.l*self.w)\n",
        "\n",
        "rect = Rectangle(8,4)\n",
        "rect.Area()"
      ],
      "metadata": {
        "colab": {
          "base_uri": "https://localhost:8080/"
        },
        "id": "4qvN-gZU29uO",
        "outputId": "611f1ec4-782c-45bd-e9b8-c018464ed19a"
      },
      "execution_count": 22,
      "outputs": [
        {
          "output_type": "stream",
          "name": "stdout",
          "text": [
            "32\n"
          ]
        }
      ]
    }
  ]
}
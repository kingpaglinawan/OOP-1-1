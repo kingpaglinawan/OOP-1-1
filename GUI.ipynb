{
  "nbformat": 4,
  "nbformat_minor": 0,
  "metadata": {
    "colab": {
      "name": "GUI.ipynb",
      "provenance": [],
      "authorship_tag": "ABX9TyN9i5udSVKW3KHfc43bkd6r",
      "include_colab_link": true
    },
    "kernelspec": {
      "name": "python3",
      "display_name": "Python 3"
    },
    "language_info": {
      "name": "python"
    }
  },
  "cells": [
    {
      "cell_type": "markdown",
      "metadata": {
        "id": "view-in-github",
        "colab_type": "text"
      },
      "source": [
        "<a href=\"https://colab.research.google.com/github/kingpaglinawan/OOP-1-1/blob/main/GUI.ipynb\" target=\"_parent\"><img src=\"https://colab.research.google.com/assets/colab-badge.svg\" alt=\"Open In Colab\"/></a>"
      ]
    },
    {
      "cell_type": "markdown",
      "source": [
        "Students'Grade in OOP subject"
      ],
      "metadata": {
        "id": "-Ovj7InASFrh"
      }
    },
    {
      "cell_type": "code",
      "execution_count": 34,
      "metadata": {
        "colab": {
          "base_uri": "https://localhost:8080/"
        },
        "id": "HaMgvED8Puna",
        "outputId": "3319d137-8f5d-4e44-e1bf-cdcd5b2159db"
      },
      "outputs": [
        {
          "output_type": "stream",
          "name": "stdout",
          "text": [
            "My prelim grade is 94\n",
            "My midterm grade is 95\n",
            "My final grade is 100\n",
            "My semestral grade is 96.33\n",
            "My birthdate is 2002-06-24\n"
          ]
        }
      ],
      "source": [
        "#@title Students'Grade in OOP\n",
        "student_name = \"King JOhn Adamz R. Paglinawan\"#@param {type: \"string\"}\n",
        "prelim = 94#@param {type: \"number\"}\n",
        "midterm = 95#@param {type: 'number\"}\n",
        "final = 100 #@param {type:'number'}\n",
        "semestral_grade = round((prelim+midterm+final)/3,2)\n",
        "\n",
        "print(\"My prelim grade is \" + str(prelim))\n",
        "print(\"My midterm grade is \" + str(midterm))\n",
        "print(\"My final grade is \" + str(final))\n",
        "print(\"My semestral grade is \" + str(semestral_grade))\n",
        "\n",
        "Gender = \"Male\" #@param [\"Male\",\"Female\"]\n",
        "BirthDate = \"2002-06-24\" #@param {type: \"date\"}\n",
        "\n",
        "print(\"My birthdate is \" +BirthDate)\n",
        "\n"
      ]
    }
  ]
}